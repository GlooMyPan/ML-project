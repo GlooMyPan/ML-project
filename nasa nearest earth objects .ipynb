{
 "cells": [
  {
   "cell_type": "code",
   "execution_count": 2,
   "id": "e70716a2",
   "metadata": {},
   "outputs": [],
   "source": [
    "import pandas as pd\n",
    "from MLP import *\n",
    "from sklearn.preprocessing import LabelEncoder, OneHotEncoder\n",
    "from sklearn.model_selection import train_test_split\n",
    "from sklearn.preprocessing import StandardScaler\n",
    "from sklearn.compose import make_column_transformer\n",
    "from sklearn.metrics import confusion_matrix, ConfusionMatrixDisplay\n",
    "from imblearn.over_sampling import SVMSMOTE"
   ]
  },
  {
   "cell_type": "code",
   "execution_count": 3,
   "id": "334582ae",
   "metadata": {},
   "outputs": [
    {
     "data": {
      "text/html": [
       "<div>\n",
       "<style scoped>\n",
       "    .dataframe tbody tr th:only-of-type {\n",
       "        vertical-align: middle;\n",
       "    }\n",
       "\n",
       "    .dataframe tbody tr th {\n",
       "        vertical-align: top;\n",
       "    }\n",
       "\n",
       "    .dataframe thead th {\n",
       "        text-align: right;\n",
       "    }\n",
       "</style>\n",
       "<table border=\"1\" class=\"dataframe\">\n",
       "  <thead>\n",
       "    <tr style=\"text-align: right;\">\n",
       "      <th></th>\n",
       "      <th>id</th>\n",
       "      <th>name</th>\n",
       "      <th>est_diameter_min</th>\n",
       "      <th>est_diameter_max</th>\n",
       "      <th>relative_velocity</th>\n",
       "      <th>miss_distance</th>\n",
       "      <th>orbiting_body</th>\n",
       "      <th>sentry_object</th>\n",
       "      <th>absolute_magnitude</th>\n",
       "      <th>hazardous</th>\n",
       "    </tr>\n",
       "  </thead>\n",
       "  <tbody>\n",
       "    <tr>\n",
       "      <th>20406</th>\n",
       "      <td>3943344</td>\n",
       "      <td>(2019 YT1)</td>\n",
       "      <td>0.024241</td>\n",
       "      <td>0.054205</td>\n",
       "      <td>22148.962596</td>\n",
       "      <td>5.028574e+07</td>\n",
       "      <td>Earth</td>\n",
       "      <td>False</td>\n",
       "      <td>25.20</td>\n",
       "      <td>False</td>\n",
       "    </tr>\n",
       "    <tr>\n",
       "      <th>74443</th>\n",
       "      <td>3879239</td>\n",
       "      <td>(2019 US)</td>\n",
       "      <td>0.012722</td>\n",
       "      <td>0.028447</td>\n",
       "      <td>26477.211836</td>\n",
       "      <td>1.683201e+06</td>\n",
       "      <td>Earth</td>\n",
       "      <td>False</td>\n",
       "      <td>26.60</td>\n",
       "      <td>False</td>\n",
       "    </tr>\n",
       "    <tr>\n",
       "      <th>74306</th>\n",
       "      <td>3879244</td>\n",
       "      <td>(2019 UU)</td>\n",
       "      <td>0.013322</td>\n",
       "      <td>0.029788</td>\n",
       "      <td>33770.201397</td>\n",
       "      <td>3.943220e+06</td>\n",
       "      <td>Earth</td>\n",
       "      <td>False</td>\n",
       "      <td>26.50</td>\n",
       "      <td>False</td>\n",
       "    </tr>\n",
       "    <tr>\n",
       "      <th>45943</th>\n",
       "      <td>2481965</td>\n",
       "      <td>481965 (2009 EB1)</td>\n",
       "      <td>0.193444</td>\n",
       "      <td>0.432554</td>\n",
       "      <td>43599.575296</td>\n",
       "      <td>7.346837e+07</td>\n",
       "      <td>Earth</td>\n",
       "      <td>False</td>\n",
       "      <td>20.69</td>\n",
       "      <td>False</td>\n",
       "    </tr>\n",
       "    <tr>\n",
       "      <th>62859</th>\n",
       "      <td>3789471</td>\n",
       "      <td>(2017 WJ1)</td>\n",
       "      <td>0.044112</td>\n",
       "      <td>0.098637</td>\n",
       "      <td>36398.080883</td>\n",
       "      <td>6.352916e+07</td>\n",
       "      <td>Earth</td>\n",
       "      <td>False</td>\n",
       "      <td>23.90</td>\n",
       "      <td>False</td>\n",
       "    </tr>\n",
       "  </tbody>\n",
       "</table>\n",
       "</div>"
      ],
      "text/plain": [
       "            id               name  est_diameter_min  est_diameter_max  \\\n",
       "20406  3943344         (2019 YT1)          0.024241          0.054205   \n",
       "74443  3879239          (2019 US)          0.012722          0.028447   \n",
       "74306  3879244          (2019 UU)          0.013322          0.029788   \n",
       "45943  2481965  481965 (2009 EB1)          0.193444          0.432554   \n",
       "62859  3789471         (2017 WJ1)          0.044112          0.098637   \n",
       "\n",
       "       relative_velocity  miss_distance orbiting_body  sentry_object  \\\n",
       "20406       22148.962596   5.028574e+07         Earth          False   \n",
       "74443       26477.211836   1.683201e+06         Earth          False   \n",
       "74306       33770.201397   3.943220e+06         Earth          False   \n",
       "45943       43599.575296   7.346837e+07         Earth          False   \n",
       "62859       36398.080883   6.352916e+07         Earth          False   \n",
       "\n",
       "       absolute_magnitude  hazardous  \n",
       "20406               25.20      False  \n",
       "74443               26.60      False  \n",
       "74306               26.50      False  \n",
       "45943               20.69      False  \n",
       "62859               23.90      False  "
      ]
     },
     "execution_count": 3,
     "metadata": {},
     "output_type": "execute_result"
    }
   ],
   "source": [
    "df = pd.read_csv(\"neo_v2.csv\")\n",
    "df = df.sample(1000, random_state= 42)\n",
    "df.head()"
   ]
  },
  {
   "cell_type": "code",
   "execution_count": 4,
   "id": "abca7548",
   "metadata": {},
   "outputs": [
    {
     "data": {
      "text/plain": [
       "id                      int64\n",
       "name                   object\n",
       "est_diameter_min      float64\n",
       "est_diameter_max      float64\n",
       "relative_velocity     float64\n",
       "miss_distance         float64\n",
       "orbiting_body          object\n",
       "sentry_object            bool\n",
       "absolute_magnitude    float64\n",
       "hazardous                bool\n",
       "dtype: object"
      ]
     },
     "execution_count": 4,
     "metadata": {},
     "output_type": "execute_result"
    }
   ],
   "source": [
    "df.dtypes"
   ]
  },
  {
   "cell_type": "code",
   "execution_count": 5,
   "id": "ff01e658",
   "metadata": {},
   "outputs": [],
   "source": [
    "X = df.iloc[:, 2:6]\n",
    "x = df.iloc[:,8].values\n",
    "x = x.reshape((-1,1))\n",
    "X = np.append(X,x,axis = 1)\n",
    "y = df.iloc[:, -1].values\n",
    "y = y.reshape((-1, 1)).astype(int)\n",
    "sc= StandardScaler()\n",
    "X = sc.fit_transform(X)"
   ]
  },
  {
   "cell_type": "code",
   "execution_count": 6,
   "id": "5cb7539a",
   "metadata": {},
   "outputs": [
    {
     "data": {
      "text/plain": [
       "(1000, 5)"
      ]
     },
     "execution_count": 6,
     "metadata": {},
     "output_type": "execute_result"
    }
   ],
   "source": [
    "X.shape"
   ]
  },
  {
   "cell_type": "code",
   "execution_count": 7,
   "id": "d8c84143",
   "metadata": {},
   "outputs": [],
   "source": [
    "smote = SVMSMOTE()\n",
    "X, y = smote.fit_resample(X, y)\n",
    "y = y.reshape((-1, 1)).astype(int)"
   ]
  },
  {
   "cell_type": "code",
   "execution_count": 8,
   "id": "35907177",
   "metadata": {},
   "outputs": [
    {
     "data": {
      "text/plain": [
       "(1822, 5)"
      ]
     },
     "execution_count": 8,
     "metadata": {},
     "output_type": "execute_result"
    }
   ],
   "source": [
    "X.shape"
   ]
  },
  {
   "cell_type": "code",
   "execution_count": 9,
   "id": "6ef967af",
   "metadata": {},
   "outputs": [],
   "source": [
    "topology = np.array([5,16,8,1])\n",
    "x_train, x_test, y_train, y_test = train_test_split(X, y, test_size=0.8, random_state=42)"
   ]
  },
  {
   "cell_type": "code",
   "execution_count": 10,
   "id": "fe765391",
   "metadata": {},
   "outputs": [
    {
     "name": "stderr",
     "output_type": "stream",
     "text": [
      "100%|████████████████████████████████████████████████████| 1000/1000 [00:05<00:00, 199.86it/s, loss=0.0106, accuracy=1]"
     ]
    },
    {
     "name": "stdout",
     "output_type": "stream",
     "text": [
      "---------------------------------\n",
      "Structure: \n",
      "Layer 0:\n",
      "  Number of Neurons: 5\n",
      "\n",
      "Layer 1:\n",
      "  Number of Neurons: 16\n",
      "  Activation Function: Sigmoid\n",
      "\n",
      "Layer 2:\n",
      "  Number of Neurons: 8\n",
      "  Activation Function: Sigmoid\n",
      "\n",
      "Layer 3:\n",
      "  Number of Neurons: 1\n",
      "  Activation Function: Sigmoid\n",
      "\n",
      "Loss Function: MeanSquaredLossFunction\n",
      "Learningrate: 0.1\n",
      "Epochs: 1000\n",
      "Loss: 0.010568547628551254\n",
      "Accuracy: 1.0\n",
      "---------------------------------\n"
     ]
    },
    {
     "name": "stderr",
     "output_type": "stream",
     "text": [
      "\n"
     ]
    }
   ],
   "source": [
    "mlp = MultiLayerPerceptron(topology, \"meansquared\", \"sigmoid\")\n",
    "mlp.learn(x_train, y_train, .1, 1000, batch_size=10, printSummary=True)"
   ]
  },
  {
   "cell_type": "code",
   "execution_count": 12,
   "id": "4aa227ee",
   "metadata": {},
   "outputs": [
    {
     "data": {
      "text/plain": [
       "86.69410150891632"
      ]
     },
     "execution_count": 12,
     "metadata": {},
     "output_type": "execute_result"
    }
   ],
   "source": [
    "yPred = mlp.predictAll(x_test,False)\n",
    "yPred = np.round(yPred)\n",
    "yPred = (yPred== y_test)\n",
    "accuracy = np.count_nonzero(yPred == True)/len(yPred)\n",
    "accuracy*100"
   ]
  },
  {
   "cell_type": "code",
   "execution_count": null,
   "id": "9a88f3ad",
   "metadata": {},
   "outputs": [],
   "source": []
  }
 ],
 "metadata": {
  "kernelspec": {
   "display_name": "Python 3",
   "language": "python",
   "name": "python3"
  },
  "language_info": {
   "codemirror_mode": {
    "name": "ipython",
    "version": 3
   },
   "file_extension": ".py",
   "mimetype": "text/x-python",
   "name": "python",
   "nbconvert_exporter": "python",
   "pygments_lexer": "ipython3",
   "version": "3.8.3"
  }
 },
 "nbformat": 4,
 "nbformat_minor": 5
}
